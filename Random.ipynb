{
 "cells": [
  {
   "cell_type": "code",
   "execution_count": null,
   "id": "903da6a7-595d-4ae4-8cee-bfefce87d639",
   "metadata": {
    "tags": []
   },
   "outputs": [],
   "source": [
    "import warnings\n",
    "warnings.filterwarnings(\"ignore\")\n",
    "\n",
    "import os\n",
    "import sys\n",
    "import time\n",
    "import json\n",
    "import numpy as np\n",
    "import pandas as pd\n",
    "import geopandas as gpd\n",
    "import pickle as pkl\n",
    "import networkx as nx\n",
    "import matplotlib.pyplot as plt\n",
    "\n",
    "from pprint import pprint\n",
    "\n",
    "import src\n",
    "from src.reload import deep_reload"
   ]
  },
  {
   "cell_type": "code",
   "execution_count": null,
   "id": "bbdbc8c9-6687-4976-a0d0-5ce0d3118876",
   "metadata": {},
   "outputs": [],
   "source": [
    "'''\n",
    "Creating a random graph\n",
    "\n",
    "graph contains n destinations and m chargers\n",
    "\n",
    "the random graph is completely connected\n",
    "'''\n",
    "deep_reload(src)\n",
    "\n",
    "seed = 125396749\n",
    "n = 15\n",
    "m = 85\n",
    "speeds = [105]\n",
    "chargers = list(range(10))\n",
    "scale = (1e6, 1e6)\n",
    "\n",
    "graph = src.rng.random_completely_connected_graph(\n",
    "    n, m, speeds = speeds, scale = scale, seed = seed, chargers = chargers,\n",
    ")\n",
    "\n",
    "graph = src.routing.edge_types(graph)\n",
    "\n",
    "destinations = [k for k, v in graph._node.items() if v['type'] is 'place']"
   ]
  },
  {
   "cell_type": "code",
   "execution_count": null,
   "id": "47e37b98-977a-49b7-b4a7-8e511d512d95",
   "metadata": {},
   "outputs": [],
   "source": [
    "graph.number_of_nodes(), graph.number_of_edges()"
   ]
  },
  {
   "cell_type": "code",
   "execution_count": null,
   "id": "e9db67ac-2b63-4033-a483-b1b255dc5c78",
   "metadata": {},
   "outputs": [],
   "source": [
    "'''\n",
    "Running with Bellman with default objective\n",
    "'''\n",
    "deep_reload(src)\n",
    "\n",
    "objective = src.routing.Scout(field = 'distance', edge_limit = 200e3)\n",
    "\n",
    "t0 = time.time()\n",
    "\n",
    "costs, values, paths = src.routing.shortest_paths(\n",
    "    graph, ['destination_0'],\n",
    "    objective = objective,\n",
    "    return_paths = True,\n",
    "    method = 'bellman'\n",
    ")\n",
    "\n",
    "print(f'Executed in {time.time() - t0:.4f} seconds')"
   ]
  },
  {
   "cell_type": "code",
   "execution_count": null,
   "id": "b9511fad-3d5c-466e-aab7-f13dcb22a6f3",
   "metadata": {},
   "outputs": [],
   "source": [
    "deep_reload(src)\n",
    "\n",
    "fig, ax = plt.subplots(figsize = (8, 6))\n",
    "\n",
    "destinations = [k for k, v in graph._node.items() if v['type'] is 'destination']\n",
    "\n",
    "kw = src.figures.default_route_tree_kwargs\n",
    "\n",
    "color = (254 / 255, 214 / 255, 1 / 255)\n",
    "\n",
    "src.figures.plot_route_tree(\n",
    "    ax, graph,\n",
    "    values = {k: v / 3600 for k, v in values.items()},\n",
    "    paths = {k: v for k, v in paths.items() if graph._node[k]['type'] is 'destination'},\n",
    "    destinations = destinations,\n",
    "    # show_used_stations = False,\n",
    "    **kw,\n",
    ")\n",
    "\n",
    "_ = ax.set(**{\n",
    "    'xticks': np.linspace(-5e5, 5e5, 11),\n",
    "    'xticklabels': np.linspace(0, 1e3, 11, dtype = int),\n",
    "    'xlim': (-5e5, 5e5),\n",
    "    'yticks': np.linspace(-5e5, 5e5, 11),\n",
    "    'yticklabels': np.linspace(0, 1e3, 11, dtype = int),\n",
    "    'ylim': (-5e5, 5e5),\n",
    "    'facecolor': 'whitesmoke',\n",
    "})\n",
    "\n",
    "legend = ax.legend()\n",
    "\n",
    "for h in legend.legendHandles:\n",
    "    h._sizes = [100]\n",
    "\n",
    "    ax.grid(ls = '--')"
   ]
  },
  {
   "cell_type": "code",
   "execution_count": null,
   "id": "85813f8b-f86d-43c2-8e5c-2e1a084da9c3",
   "metadata": {},
   "outputs": [],
   "source": []
  },
  {
   "cell_type": "code",
   "execution_count": null,
   "id": "4b06a485-773d-4458-b8f3-8ebd302393fb",
   "metadata": {},
   "outputs": [],
   "source": [
    "deep_reload(src)\n",
    "\n",
    "seed = 1468952\n",
    "seed = None\n",
    "rng = np.random.default_rng(seed)\n",
    "\n",
    "vehicle_param = src.experiments._vehicle_kwargs\n",
    "station_param = src.experiments._station_kwargs\n",
    "graphs = [0]\n",
    "\n",
    "graph_index, vehicle_kw, station_kw = src.experiments.generate_case(\n",
    "    graphs, vehicle_param, station_param, rng,\n",
    ")\n",
    "\n",
    "graph_index, vehicle_kw, station_kw"
   ]
  },
  {
   "cell_type": "code",
   "execution_count": null,
   "id": "3b01b09f-4dff-4521-a160-4c7fc6c5d1be",
   "metadata": {},
   "outputs": [],
   "source": [
    "vehicle_kw['risk_attitude'] = (.8, 1)\n",
    "vehicle_kw['capacity'] = 40 * 3.6e6\n",
    "station_kw['station']['reliability'] = .5 + .5"
   ]
  },
  {
   "cell_type": "code",
   "execution_count": null,
   "id": "d3b2ae48-304a-4b7a-b147-f2afadfe0895",
   "metadata": {
    "scrolled": true
   },
   "outputs": [],
   "source": [
    "deep_reload(src)\n",
    "\n",
    "t0 = time.time()\n",
    "\n",
    "costs, values, paths = src.experiments.run_case(\n",
    "    graph, vehicle_kw, station_kw, method = 'dijkstra'\n",
    ")\n",
    "\n",
    "print(f'\\n\\nExecuted in {time.time() - t0:.4f} seconds')"
   ]
  },
  {
   "cell_type": "code",
   "execution_count": null,
   "id": "02566142-b6d2-423a-bbb2-3051ce1c7982",
   "metadata": {},
   "outputs": [],
   "source": [
    "src.routing.impedance(\n",
    "    values, field = 'routing_time',\n",
    ") / 3600"
   ]
  },
  {
   "cell_type": "code",
   "execution_count": null,
   "id": "92bb9a70-00c6-480f-b0af-1a09d993fd9b",
   "metadata": {},
   "outputs": [],
   "source": [
    "src.routing.impedance(\n",
    "    values, field = 'total_time',\n",
    ") / 3600"
   ]
  },
  {
   "cell_type": "code",
   "execution_count": null,
   "id": "8763fdcc-f41c-46a8-8d9b-f9c0a2b8585a",
   "metadata": {},
   "outputs": [],
   "source": [
    "src.routing.impedance(\n",
    "    values, field = 'driving_time',\n",
    ") / 3600"
   ]
  }
 ],
 "metadata": {
  "kernelspec": {
   "display_name": "Python 3 (ipykernel)",
   "language": "python",
   "name": "python3"
  },
  "language_info": {
   "codemirror_mode": {
    "name": "ipython",
    "version": 3
   },
   "file_extension": ".py",
   "mimetype": "text/x-python",
   "name": "python",
   "nbconvert_exporter": "python",
   "pygments_lexer": "ipython3",
   "version": "3.11.5"
  }
 },
 "nbformat": 4,
 "nbformat_minor": 5
}
