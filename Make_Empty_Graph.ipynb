{
 "cells": [
  {
   "cell_type": "code",
   "execution_count": 1,
   "id": "da219a36-3bd5-483f-9b4b-531478cdf374",
   "metadata": {
    "tags": []
   },
   "outputs": [],
   "source": [
    "import warnings\n",
    "warnings.filterwarnings(\"ignore\")\n",
    "\n",
    "import os\n",
    "import sys\n",
    "import time\n",
    "import json\n",
    "import numpy as np\n",
    "import pandas as pd\n",
    "import geopandas as gpd\n",
    "import pickle as pkl\n",
    "import networkx as nx\n",
    "import matplotlib.pyplot as plt\n",
    "\n",
    "import src\n",
    "from src.reload import deep_reload"
   ]
  },
  {
   "cell_type": "markdown",
   "id": "b8ae2e66-7ffe-41a2-aeb9-e6963b18988b",
   "metadata": {},
   "source": [
    "Please run make_data_structure.sh prior to this"
   ]
  },
  {
   "cell_type": "code",
   "execution_count": 2,
   "id": "be59b343-0a14-48fc-ac14-a10e2568f16a",
   "metadata": {},
   "outputs": [],
   "source": [
    "'''\n",
    "Making the destinations graph\n",
    "'''\n",
    "\n",
    "gdf_place = gpd.read_file('Data/Places/tl_2023_06_place.shp')\n",
    "\n",
    "df_place = pd.read_excel(\n",
    "    'Data/Places/SUB-IP-EST2022-POP-06.xlsx',\n",
    "    skiprows = 3, skipfooter = 5,\n",
    ")\n",
    "\n",
    "df_place = df_place.rename(columns = {'Unnamed: 0': 'Name', 'Unnamed: 1': 'Base'})\n",
    "\n",
    "df_place_names = df_place['Name'].to_numpy()\n",
    "df_place_population = df_place[2022].to_numpy()\n",
    "gdf_place_names = gdf_place['NAME'].to_numpy()"
   ]
  },
  {
   "cell_type": "code",
   "execution_count": 3,
   "id": "24b77453-61cc-4b39-ae0b-97898e87c3cf",
   "metadata": {},
   "outputs": [],
   "source": [
    "pop = {}\n",
    "\n",
    "for name in gdf_place_names:\n",
    "\n",
    "    for idx, check_name in enumerate(df_place_names):\n",
    "\n",
    "        if name in check_name:\n",
    "\n",
    "            pop[name] = df_place_population[idx]\n",
    "            break\n",
    "\n",
    "populations = []\n",
    "\n",
    "for name in gdf_place_names:\n",
    "\n",
    "    populations.append(pop.get(name, 0))\n",
    "\n",
    "gdf_place['population'] = populations\n",
    "gdf_place['log_population'] = np.log(gdf_place['population'])"
   ]
  },
  {
   "cell_type": "code",
   "execution_count": 5,
   "id": "77399464-976c-463e-a27b-66c8094d03ea",
   "metadata": {},
   "outputs": [],
   "source": [
    "gdf_place_sel = gdf_place[gdf_place['population'] > 1e3]\n",
    "lon, lat = np.array([x.coords.xy for x in gdf_place_sel.geometry.centroid]).T[0]\n",
    "names = gdf_place_sel['NAME'].to_numpy()\n",
    "pop = gdf_place_sel['population'].to_numpy()\n",
    "\n",
    "nodes = []\n",
    "\n",
    "for idx in range(len(names)):\n",
    "\n",
    "    node = {\n",
    "        'id': names[idx],\n",
    "        'x': lon[idx],\n",
    "        'y': lat[idx],\n",
    "        'population': pop[idx],\n",
    "        'type': 'place',\n",
    "    }\n",
    "\n",
    "    nodes.append(node)\n",
    "\n",
    "links = []\n",
    "\n",
    "for idx_s in range(len(names)):\n",
    "    for idx_t in range(len(names)):\n",
    "\n",
    "        link = {\n",
    "            'source': names[idx_s],\n",
    "            'target': names[idx_t],\n",
    "            'distance': src.utilities.haversine(\n",
    "                lon[idx_s], lat[idx_s], lon[idx_t], lat[idx_t],\n",
    "            )\n",
    "        }\n",
    "\n",
    "        links.append(link)\n",
    "    \n",
    "places = src.graph.graph_from_nlg({'nodes': nodes, 'links': links})"
   ]
  },
  {
   "cell_type": "code",
   "execution_count": 6,
   "id": "da56bf0c-ff49-49fa-9eda-d3171e43ed74",
   "metadata": {},
   "outputs": [
    {
     "data": {
      "text/plain": [
       "(479, 114960)"
      ]
     },
     "execution_count": 6,
     "metadata": {},
     "output_type": "execute_result"
    }
   ],
   "source": [
    "places.number_of_nodes(), places.number_of_edges()"
   ]
  },
  {
   "cell_type": "code",
   "execution_count": 7,
   "id": "310dc491-ab75-4375-a3a2-176e3555cfff",
   "metadata": {},
   "outputs": [],
   "source": [
    "for source, adj in places._adj.items():\n",
    "    for target, edge in adj.items():\n",
    "\n",
    "        edge['inverse_distance'] = np.exp(-edge['distance'] / 10e3)\n",
    "\n",
    "c = nx.community.greedy_modularity_communities(\n",
    "    places, weight = 'inverse_distance', resolution = 1,\n",
    ")"
   ]
  },
  {
   "cell_type": "code",
   "execution_count": 8,
   "id": "62229640-3aa9-4d18-800e-2c8de16889f6",
   "metadata": {},
   "outputs": [],
   "source": [
    "def graph_from_communities(graph, communities):\n",
    "\n",
    "    _node = graph._node\n",
    "\n",
    "    nodes = []\n",
    "\n",
    "    for idx, community in enumerate(communities):\n",
    "\n",
    "        x_coordinates = []\n",
    "        y_coordinates = []\n",
    "        populations = []\n",
    "\n",
    "        for source in community:\n",
    "\n",
    "            x_coordinates.append(_node[source]['x'])\n",
    "            y_coordinates.append(_node[source]['y'])\n",
    "            populations.append(_node[source]['population'])\n",
    "\n",
    "        node = {\n",
    "            'id': f'community_{idx}',\n",
    "            'x': np.mean(x_coordinates),\n",
    "            'y': np.mean(y_coordinates),\n",
    "            'population': sum(populations),\n",
    "            'places': [k for k in community],\n",
    "        }\n",
    "\n",
    "        nodes.append(node)\n",
    "\n",
    "    links = []\n",
    "\n",
    "    return src.graph.graph_from_nlg({'nodes': nodes, 'links': links})\n",
    "\n",
    "communities = graph_from_communities(places, c)"
   ]
  },
  {
   "cell_type": "code",
   "execution_count": 9,
   "id": "831708be-8fe3-4188-8544-fcc536ac1741",
   "metadata": {},
   "outputs": [
    {
     "data": {
      "text/plain": [
       "(34, 0)"
      ]
     },
     "execution_count": 9,
     "metadata": {},
     "output_type": "execute_result"
    }
   ],
   "source": [
    "communities.number_of_nodes(), communities.number_of_edges()"
   ]
  },
  {
   "cell_type": "code",
   "execution_count": 10,
   "id": "22ef617e-36e9-44e2-a08b-f0f0812a12ed",
   "metadata": {},
   "outputs": [],
   "source": [
    "filename = 'additional_places.json'\n",
    "\n",
    "additional_places = src.graph.graph_from_json(filename)"
   ]
  },
  {
   "cell_type": "code",
   "execution_count": 11,
   "id": "5b70bd10-9836-4993-ae36-cf7a017102eb",
   "metadata": {},
   "outputs": [],
   "source": [
    "graph_places = nx.union(communities, additional_places)"
   ]
  },
  {
   "cell_type": "code",
   "execution_count": 24,
   "id": "44a62d48-4095-4031-afaa-9b2d251a247f",
   "metadata": {},
   "outputs": [],
   "source": [
    "src.graph.graph_to_json(graph_places, 'Outputs/places.json')"
   ]
  },
  {
   "cell_type": "code",
   "execution_count": 12,
   "id": "bd6e35f7-9819-4091-9f70-19dd31d52799",
   "metadata": {},
   "outputs": [
    {
     "data": {
      "text/plain": [
       "(479, 38)"
      ]
     },
     "execution_count": 12,
     "metadata": {},
     "output_type": "execute_result"
    }
   ],
   "source": [
    "places.number_of_nodes(), graph_places.number_of_nodes()"
   ]
  },
  {
   "cell_type": "code",
   "execution_count": 13,
   "id": "2ce5f72a-683f-46fd-9269-93105e59b71b",
   "metadata": {},
   "outputs": [],
   "source": [
    "with open('Data/AFDC/evse_stations.json', 'r') as file:\n",
    "    evse = json.load(file)"
   ]
  },
  {
   "cell_type": "code",
   "execution_count": 14,
   "id": "22e2a0d9-687d-4ce9-b895-b8ffa7e0d06e",
   "metadata": {
    "scrolled": true
   },
   "outputs": [],
   "source": [
    "stations_raw = []\n",
    "\n",
    "for station in evse['fuel_stations']:\n",
    "\n",
    "    checks = (\n",
    "        station['state'] == 'CA',\n",
    "        station['ev_dc_fast_num'] is not None,\n",
    "        station['access_code'] == 'public',\n",
    "        station['status_code'] == 'E',\n",
    "    )\n",
    "\n",
    "    if all(checks):\n",
    "\n",
    "        stations_raw.append(station)"
   ]
  },
  {
   "cell_type": "code",
   "execution_count": 15,
   "id": "ef2aca87-87eb-4c41-9585-dd436a7655cb",
   "metadata": {},
   "outputs": [],
   "source": [
    "'''\n",
    "Merging equipment labeled as individual stations but actually forming a single station\n",
    "'''\n",
    "\n",
    "longitude = np.array([station['longitude'] for station in stations_raw])\n",
    "latitude = np.array([station['longitude'] for station in stations_raw])\n",
    "ids = np.array([station['id'] for station in stations_raw])\n",
    "networks = np.array([station['ev_network'] for station in stations_raw])\n",
    "\n",
    "x_s, x_f = np.meshgrid(longitude, longitude, indexing  = 'ij')\n",
    "y_s, y_f = np.meshgrid(latitude, latitude, indexing  = 'ij')\n",
    "\n",
    "distance = src.utilities.haversine(x_s, y_s, x_f, y_f)"
   ]
  },
  {
   "cell_type": "code",
   "execution_count": 16,
   "id": "71bdfc38-61ea-4776-84d0-0ee6beb4ab62",
   "metadata": {},
   "outputs": [],
   "source": [
    "def none_then_zero(x):\n",
    "\n",
    "    if x is None:\n",
    "\n",
    "        return 0\n",
    "\n",
    "    else:\n",
    "\n",
    "        return x\n",
    "\n",
    "stations_merged = [station.copy() for station in stations_raw]\n",
    "\n",
    "drop = []\n",
    "\n",
    "threshold = 100\n",
    "\n",
    "for idx, row in enumerate(distance):\n",
    "\n",
    "    if ids[idx] in drop:\n",
    "\n",
    "        continue\n",
    "\n",
    "    for col, dist in enumerate(row):\n",
    "\n",
    "        if (dist <= threshold) & (idx != col) & (networks[idx] == networks[col]):\n",
    "\n",
    "            drop.append(ids[col])\n",
    "\n",
    "            stations_merged[idx]['ev_dc_fast_num'] = (\n",
    "                none_then_zero(stations_raw[idx]['ev_dc_fast_num']) +\n",
    "                none_then_zero(stations_raw[col]['ev_dc_fast_num'])\n",
    "            )\n",
    "\n",
    "            stations_merged[idx]['ev_level2_evse_num'] = (\n",
    "                none_then_zero(stations_raw[idx]['ev_level2_evse_num']) +\n",
    "                none_then_zero(stations_raw[col]['ev_level2_evse_num'])\n",
    "            )"
   ]
  },
  {
   "cell_type": "code",
   "execution_count": 17,
   "id": "0aed0699-7a84-4abd-a0ce-80ec2d613575",
   "metadata": {},
   "outputs": [],
   "source": [
    "stations_merged = [station for station in stations_merged if station['id'] not in drop]"
   ]
  },
  {
   "cell_type": "code",
   "execution_count": 18,
   "id": "1e303a0b-e338-4e69-869e-8e27a4475322",
   "metadata": {},
   "outputs": [
    {
     "data": {
      "text/plain": [
       "(1689, 2149)"
      ]
     },
     "execution_count": 18,
     "metadata": {},
     "output_type": "execute_result"
    }
   ],
   "source": [
    "len(stations_merged), len(stations_raw)"
   ]
  },
  {
   "cell_type": "code",
   "execution_count": 19,
   "id": "fe526c97-cbd8-477d-97e0-9c63a526ec5c",
   "metadata": {},
   "outputs": [],
   "source": [
    "df_stations = pd.DataFrame.from_dict(stations_merged)"
   ]
  },
  {
   "cell_type": "code",
   "execution_count": 20,
   "id": "3e1dafc3-c329-40b9-97aa-8270e89f327b",
   "metadata": {},
   "outputs": [],
   "source": [
    "node_attributes = {\n",
    "    'x': 'lambda n: n[\"longitude\"]',\n",
    "    'y': 'lambda n: n[\"latitude\"]',\n",
    "    'n_dcfc': 'lambda n: n[\"ev_dc_fast_num\"]',\n",
    "    'n_acl2': 'lambda n: n[\"ev_level2_evse_num\"]',\n",
    "    'network': 'lambda n: n[\"ev_network\"]',\n",
    "    'name': 'lambda n: n[\"station_name\"]',\n",
    "    'address': 'lambda n: n[\"street_address\"]',\n",
    "    'city': 'lambda n: n[\"city\"]',\n",
    "    'state': 'lambda n: n[\"state\"]',\n",
    "    'zip': 'lambda n: n[\"zip\"]',\n",
    "    'access_code': 'lambda n: n[\"access_code\"]',\n",
    "    'status_code': 'lambda n: n[\"status_code\"]',\n",
    "    'type': 'lambda n: \"station\"',\n",
    "}\n",
    "\n",
    "nlg = src.graph.nlg_from_dataframe(df_stations, node_attributes)\n",
    "\n",
    "graph_station = src.graph.graph_from_nlg(nlg)\n",
    "\n",
    "mapping = {n: f'station_{n}' for n in graph_station.nodes}\n",
    "\n",
    "graph_station = nx.relabel_nodes(graph_station, mapping)"
   ]
  },
  {
   "cell_type": "code",
   "execution_count": 21,
   "id": "0d0969e1-d47d-4ca3-87e8-40046349ad41",
   "metadata": {},
   "outputs": [],
   "source": [
    "graph_empty = nx.union(graph_places, graph_station)"
   ]
  },
  {
   "cell_type": "code",
   "execution_count": 22,
   "id": "2333ce01-1b3a-4632-891c-57fbbd8057b1",
   "metadata": {},
   "outputs": [
    {
     "data": {
      "text/plain": [
       "(1727, 0)"
      ]
     },
     "execution_count": 22,
     "metadata": {},
     "output_type": "execute_result"
    }
   ],
   "source": [
    "graph_empty.number_of_nodes(), graph_empty.number_of_edges()"
   ]
  },
  {
   "cell_type": "code",
   "execution_count": 23,
   "id": "231d459b-05b0-48a2-959b-8ac4155ecef7",
   "metadata": {},
   "outputs": [],
   "source": [
    "src.graph.graph_to_json(graph_empty, 'Outputs/graph_empty.json')"
   ]
  }
 ],
 "metadata": {
  "kernelspec": {
   "display_name": "Python 3 (ipykernel)",
   "language": "python",
   "name": "python3"
  },
  "language_info": {
   "codemirror_mode": {
    "name": "ipython",
    "version": 3
   },
   "file_extension": ".py",
   "mimetype": "text/x-python",
   "name": "python",
   "nbconvert_exporter": "python",
   "pygments_lexer": "ipython3",
   "version": "3.11.5"
  }
 },
 "nbformat": 4,
 "nbformat_minor": 5
}
