{
 "cells": [
  {
   "cell_type": "code",
   "execution_count": null,
   "id": "1cbafc9f-a394-46e3-85a7-bc11ee1848d8",
   "metadata": {
    "tags": []
   },
   "outputs": [],
   "source": [
    "import warnings\n",
    "warnings.filterwarnings(\"ignore\")\n",
    "\n",
    "import os\n",
    "import sys\n",
    "import time\n",
    "import json\n",
    "import numpy as np\n",
    "import pandas as pd\n",
    "import geopandas as gpd\n",
    "import pickle as pkl\n",
    "import networkx as nx\n",
    "import matplotlib.pyplot as plt\n",
    "\n",
    "import src\n",
    "from src.reload import deep_reload"
   ]
  },
  {
   "cell_type": "markdown",
   "id": "69c13dd5-8cdd-41b7-bfa9-a298258aed4a",
   "metadata": {},
   "source": [
    "Adds adjacency to SNG by routing along atlas"
   ]
  },
  {
   "cell_type": "code",
   "execution_count": null,
   "id": "cb785698-63d3-41c5-b68b-22ca7cb9c628",
   "metadata": {},
   "outputs": [],
   "source": [
    "'''\n",
    "Loading the atlas\n",
    "'''\n",
    "\n",
    "atlas = src.graph.graph_from_json('atlas.json')\n",
    "\n",
    "atlas.number_of_nodes(), atlas.number_of_edges()"
   ]
  },
  {
   "cell_type": "code",
   "execution_count": null,
   "id": "c9cc93f9-2796-4eea-b657-bf0289eeb353",
   "metadata": {},
   "outputs": [],
   "source": [
    "'''\n",
    "Loading the empty graph\n",
    "'''\n",
    "\n",
    "graph_empty = src.graph.graph_from_json('Outputs/graph_empty.json')\n",
    "\n",
    "graph_empty.number_of_nodes(), graph_empty.number_of_edges()"
   ]
  },
  {
   "cell_type": "code",
   "execution_count": null,
   "id": "1328e712-d062-42c2-9f67-f2140ffc0ac1",
   "metadata": {},
   "outputs": [],
   "source": [
    "'''\n",
    "Adding road numbers for nodes in empty graph\n",
    "'''\n",
    "\n",
    "graph_to_atlas, atlas_to_graph = src.adjacency.node_assignment(graph_empty, atlas)\n",
    "\n",
    "for graph_node, atlas_node in graph_to_atlas.items():\n",
    "\n",
    "    graph_empty._node[graph_node]['roadnum'] = atlas._node[atlas_node].get('roadnum', '')"
   ]
  },
  {
   "cell_type": "code",
   "execution_count": null,
   "id": "2cc1b529-6a32-4021-ac35-acca2ac9b4ea",
   "metadata": {},
   "outputs": [],
   "source": [
    "deep_reload(src)\n",
    "\n",
    "objective = src.adjacency.Graph_From_Atlas(\n",
    "    limits = [np.inf, 786e3, np.inf]\n",
    ")\n",
    "\n",
    "graph = src.adjacency.adjacency(\n",
    "    atlas,\n",
    "    graph_empty,\n",
    "    objective = objective,\n",
    ")"
   ]
  },
  {
   "cell_type": "code",
   "execution_count": null,
   "id": "3d8992dd-18e6-4bf3-a00e-5542046a386a",
   "metadata": {},
   "outputs": [],
   "source": [
    "src.graph.graph_to_json(graph, 'Outputs/graph_full.json')"
   ]
  },
  {
   "cell_type": "code",
   "execution_count": null,
   "id": "c68a58ee-d022-4ea9-a6ea-2d4ccc1706fd",
   "metadata": {},
   "outputs": [],
   "source": [
    "graph.number_of_nodes(), graph.number_of_edges()"
   ]
  },
  {
   "cell_type": "code",
   "execution_count": null,
   "id": "59a6c84c-b717-4081-aed8-a35252273120",
   "metadata": {},
   "outputs": [],
   "source": [
    "'''\n",
    "Loading the graph with adjacency\n",
    "'''\n",
    "\n",
    "graph = src.graph.graph_from_json('Outputs/graph_full.json')\n",
    "graph = src.routing.edge_types(graph)"
   ]
  },
  {
   "cell_type": "code",
   "execution_count": null,
   "id": "4b99095d-45e2-48b7-865c-ce7d6886cdf4",
   "metadata": {},
   "outputs": [],
   "source": [
    "'''\n",
    "Removing non-corridor stations\n",
    "'''\n",
    "roadnums = []\n",
    "\n",
    "for source, node in graph._node.items():\n",
    "    \n",
    "    roadnums.append(node['roadnum'])\n",
    "\n",
    "unique_roadnum, unique_roadnum_count = np.unique(roadnums, return_counts = True)\n",
    "\n",
    "roadnums_keep = unique_roadnum[(unique_roadnum_count >= 10) & (unique_roadnum != 'nan')]\n",
    "roadnums_keep = np.append(roadnums_keep, 'U395')\n",
    "\n",
    "corridor_roadnum = []\n",
    "\n",
    "corridor_roadnum.extend([r for r in unique_roadnum if 'I' in r])\n",
    "corridor_roadnum.extend([r for r in unique_roadnum if 'U' in r])\n",
    "corridor_roadnum.extend(['S1', 'S41', 'S99'])\n",
    "\n",
    "roadnums_keep = corridor_roadnum\n",
    "\n",
    "nodes_keep = []\n",
    "\n",
    "for source, node in graph._node.items():\n",
    "\n",
    "    roadnum = node['roadnum']\n",
    "\n",
    "    if node.get('type', '') != 'station':\n",
    "\n",
    "        node['type'] = 'place'\n",
    "        nodes_keep.append(source)\n",
    "    \n",
    "    else:\n",
    "\n",
    "        if roadnum in roadnums_keep:\n",
    "    \n",
    "            nodes_keep.append(source)\n",
    "\n",
    "roadnums_keep = np.append(roadnums_keep, 'U395')\n",
    "\n",
    "sng_corridor = src.graph.subgraph(graph, nodes_keep)\n",
    "\n",
    "sng_corridor.number_of_nodes(), sng_corridor.number_of_edges()"
   ]
  },
  {
   "cell_type": "code",
   "execution_count": null,
   "id": "1131851e-ef2f-4488-b299-c79d050a1209",
   "metadata": {},
   "outputs": [],
   "source": [
    "'''\n",
    "Creating Tesla and non-tesla SNGs\n",
    "'''\n",
    "\n",
    "u, c = np.unique(\n",
    "    [n.get('network', '') for n in sng_corridor._node.values()], return_counts = True\n",
    ")\n",
    "\n",
    "other_networks = u[(c >= 50) & (u != 'Tesla') & (u != 'Non-Networked')]\n",
    "other_networks = u\n",
    "\n",
    "tesla = []\n",
    "other = []\n",
    "combined = []\n",
    "rivian = []\n",
    "\n",
    "for source, node in sng_corridor._node.items():\n",
    "\n",
    "    if node['type'] == 'place':\n",
    "\n",
    "        tesla.append(source)\n",
    "        other.append(source)\n",
    "        combined.append(source)\n",
    "        rivian.append(source)\n",
    "\n",
    "    else:\n",
    "\n",
    "        include = False\n",
    "\n",
    "        if node['network'] == 'Tesla':\n",
    "\n",
    "            tesla.append(source)\n",
    "            combined.append(source)\n",
    "\n",
    "        else:\n",
    "\n",
    "            other.append(source)\n",
    "            \n",
    "        if node['network'] in other_networks:\n",
    "\n",
    "            combined.append(source)\n",
    "\n",
    "        if node['network'] in ['RIVIAN_ADVENTURE']:\n",
    "\n",
    "            rivian.append(source)\n",
    "\n",
    "sng_tesla = src.graph.subgraph(graph, tesla)\n",
    "sng_other = src.graph.subgraph(graph, other)\n",
    "sng_combined = src.graph.subgraph(graph, combined)\n",
    "sng_rivian = src.graph.subgraph(graph, rivian)"
   ]
  },
  {
   "cell_type": "code",
   "execution_count": null,
   "id": "0762b541-7b0b-409a-a524-40857d90475a",
   "metadata": {},
   "outputs": [],
   "source": [
    "sng_combined.number_of_nodes(), sng_tesla.number_of_nodes(), sng_other.number_of_nodes(), sng_rivian.number_of_nodes()"
   ]
  },
  {
   "cell_type": "code",
   "execution_count": null,
   "id": "4582dcc8-461c-4cf8-859d-b9d885f46279",
   "metadata": {},
   "outputs": [],
   "source": [
    "src.graph.graph_to_json(sng_combined, 'Outputs/sng_combined.json')\n",
    "src.graph.graph_to_json(sng_tesla, 'Outputs/sng_tesla.json')\n",
    "src.graph.graph_to_json(sng_other, 'Outputs/sng_other.json')\n",
    "src.graph.graph_to_json(sng_rivian, 'Outputs/sng_sng_rivian.json')"
   ]
  }
 ],
 "metadata": {
  "kernelspec": {
   "display_name": "Python 3 (ipykernel)",
   "language": "python",
   "name": "python3"
  },
  "language_info": {
   "codemirror_mode": {
    "name": "ipython",
    "version": 3
   },
   "file_extension": ".py",
   "mimetype": "text/x-python",
   "name": "python",
   "nbconvert_exporter": "python",
   "pygments_lexer": "ipython3",
   "version": "3.11.5"
  }
 },
 "nbformat": 4,
 "nbformat_minor": 5
}
