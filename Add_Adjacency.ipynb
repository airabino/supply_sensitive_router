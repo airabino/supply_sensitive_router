{
 "cells": [
  {
   "cell_type": "code",
   "execution_count": 1,
   "id": "1cbafc9f-a394-46e3-85a7-bc11ee1848d8",
   "metadata": {
    "tags": []
   },
   "outputs": [],
   "source": [
    "import warnings\n",
    "warnings.filterwarnings(\"ignore\")\n",
    "\n",
    "import os\n",
    "import sys\n",
    "import time\n",
    "import json\n",
    "import numpy as np\n",
    "import pandas as pd\n",
    "import geopandas as gpd\n",
    "import pickle as pkl\n",
    "import networkx as nx\n",
    "import matplotlib.pyplot as plt\n",
    "\n",
    "import src\n",
    "from src.reload import deep_reload"
   ]
  },
  {
   "cell_type": "markdown",
   "id": "69c13dd5-8cdd-41b7-bfa9-a298258aed4a",
   "metadata": {},
   "source": [
    "Adds adjacency to RSNG by routing along atlas"
   ]
  },
  {
   "cell_type": "code",
   "execution_count": 2,
   "id": "610f59b7-8b79-4d7f-8d31-85eb0350bdf4",
   "metadata": {},
   "outputs": [],
   "source": [
    "atlas = src.graph.graph_from_json('atlas.json')"
   ]
  },
  {
   "cell_type": "code",
   "execution_count": 3,
   "id": "030af2d1-b3b8-4295-9be2-a04156a5ac9d",
   "metadata": {},
   "outputs": [
    {
     "data": {
      "text/plain": [
       "(59621, 63677)"
      ]
     },
     "execution_count": 3,
     "metadata": {},
     "output_type": "execute_result"
    }
   ],
   "source": [
    "atlas.number_of_nodes(), atlas.number_of_edges()"
   ]
  },
  {
   "cell_type": "code",
   "execution_count": 4,
   "id": "647b0064-3273-4d5a-b15a-fb8c6a0dad7e",
   "metadata": {},
   "outputs": [],
   "source": [
    "graph_empty = src.graph.graph_from_json('Outputs/graph_empty.json')"
   ]
  },
  {
   "cell_type": "code",
   "execution_count": 5,
   "id": "8ff0ba59-254e-435a-ac3c-9d4f88b0c55d",
   "metadata": {},
   "outputs": [
    {
     "data": {
      "text/plain": [
       "(1727, 0)"
      ]
     },
     "execution_count": 5,
     "metadata": {},
     "output_type": "execute_result"
    }
   ],
   "source": [
    "graph_empty.number_of_nodes(), graph_empty.number_of_edges()"
   ]
  },
  {
   "cell_type": "code",
   "execution_count": 6,
   "id": "1328e712-d062-42c2-9f67-f2140ffc0ac1",
   "metadata": {},
   "outputs": [],
   "source": [
    "# Adding roadnum for destinations\n",
    "\n",
    "graph_to_atlas, atlas_to_graph = src.adjacency.node_assignment(graph_empty, atlas)\n",
    "\n",
    "for graph_node, atlas_node in graph_to_atlas.items():\n",
    "\n",
    "    graph_empty._node[graph_node]['roadnum'] = atlas._node[atlas_node]['roadnum']"
   ]
  },
  {
   "cell_type": "code",
   "execution_count": 13,
   "id": "2cc1b529-6a32-4021-ac35-acca2ac9b4ea",
   "metadata": {},
   "outputs": [
    {
     "name": "stdout",
     "output_type": "stream",
     "text": [
      "\u001b[1m\u001b[38;5;34m\u001b[48;5;0m [------>] (1727/1727) 100.00%, 0.72 it/s, 2407.13 s elapsed, 0.00 s remaining"
     ]
    }
   ],
   "source": [
    "deep_reload(src)\n",
    "\n",
    "objective = src.adjacency.Graph_From_Atlas(\n",
    "    limits = [np.inf, 786e3, np.inf]\n",
    ")\n",
    "\n",
    "graph = src.adjacency.adjacency(\n",
    "    atlas,\n",
    "    graph_empty,\n",
    "    objective = objective,\n",
    ")"
   ]
  },
  {
   "cell_type": "code",
   "execution_count": 14,
   "id": "3d8992dd-18e6-4bf3-a00e-5542046a386a",
   "metadata": {},
   "outputs": [],
   "source": [
    "src.graph.graph_to_json(graph, 'Outputs/graph_full.json')"
   ]
  },
  {
   "cell_type": "code",
   "execution_count": 15,
   "id": "c68a58ee-d022-4ea9-a6ea-2d4ccc1706fd",
   "metadata": {},
   "outputs": [
    {
     "data": {
      "text/plain": [
       "(1727, 1369614)"
      ]
     },
     "execution_count": 15,
     "metadata": {},
     "output_type": "execute_result"
    }
   ],
   "source": [
    "graph.number_of_nodes(), graph.number_of_edges()"
   ]
  },
  {
   "cell_type": "code",
   "execution_count": 2,
   "id": "59a6c84c-b717-4081-aed8-a35252273120",
   "metadata": {},
   "outputs": [],
   "source": [
    "'''\n",
    "Loading the graph with adjacency\n",
    "'''\n",
    "\n",
    "graph = src.graph.graph_from_json('Outputs/graph_full.json')\n",
    "graph = src.routing.edge_types(graph)"
   ]
  },
  {
   "cell_type": "code",
   "execution_count": 3,
   "id": "f431770e-9892-4a8a-8873-1bea44756a61",
   "metadata": {},
   "outputs": [],
   "source": [
    "for source, node in graph._node.items():\n",
    "\n",
    "    if 'pop' in node:\n",
    "\n",
    "        node['population'] = node['pop']\n",
    "        node.pop('pop')\n",
    "\n",
    "    if 'station' not in source:\n",
    "\n",
    "        node['type'] = 'place'"
   ]
  },
  {
   "cell_type": "code",
   "execution_count": 5,
   "id": "c323f15a-86f2-43ad-ab4a-c5b97d6ea784",
   "metadata": {},
   "outputs": [],
   "source": [
    "'''\n",
    "Removing non-corridor stations\n",
    "'''\n",
    "roadnums = []\n",
    "\n",
    "for source, node in graph._node.items():\n",
    "    \n",
    "    roadnums.append(node['roadnum'])\n",
    "\n",
    "unique_roadnum, unique_roadnum_count = np.unique(roadnums, return_counts = True)\n",
    "\n",
    "roadnums_keep = unique_roadnum[(unique_roadnum_count >= 10) & (unique_roadnum != 'nan')]\n",
    "roadnums_keep = np.append(roadnums_keep, 'U395')\n",
    "\n",
    "corridor_roadnum = []\n",
    "\n",
    "corridor_roadnum.extend([r for r in unique_roadnum if 'I' in r])\n",
    "corridor_roadnum.extend([r for r in unique_roadnum if 'U' in r])\n",
    "corridor_roadnum.extend(['S1', 'S41', 'S99'])\n",
    "\n",
    "roadnums_keep = corridor_roadnum\n",
    "\n",
    "nodes_keep = []\n",
    "\n",
    "for source, node in graph._node.items():\n",
    "\n",
    "    roadnum = node['roadnum']\n",
    "\n",
    "    if node['type'] == 'place':\n",
    "\n",
    "        nodes_keep.append(source)\n",
    "    \n",
    "    else:\n",
    "\n",
    "        if roadnum in roadnums_keep:\n",
    "    \n",
    "            nodes_keep.append(source)\n",
    "\n",
    "roadnums_keep = np.append(roadnums_keep, 'U395')\n",
    "\n",
    "sng_corridor = src.graph.subgraph(graph, nodes_keep)"
   ]
  },
  {
   "cell_type": "code",
   "execution_count": 9,
   "id": "68a15a26-c1d5-48b2-a9a1-37b4f2ac5638",
   "metadata": {},
   "outputs": [
    {
     "data": {
      "text/plain": [
       "(678, 202673)"
      ]
     },
     "execution_count": 9,
     "metadata": {},
     "output_type": "execute_result"
    }
   ],
   "source": [
    "sng_corridor.number_of_nodes(), sng_corridor.number_of_edges()"
   ]
  },
  {
   "cell_type": "code",
   "execution_count": 10,
   "id": "e9c9f7f4-2cda-45c0-b9c9-95e3d051bfbe",
   "metadata": {},
   "outputs": [],
   "source": [
    "u, c = np.unique(\n",
    "    [n.get('network', '') for n in sng_corridor._node.values()], return_counts = True\n",
    ")\n",
    "\n",
    "other_networks = u[(c >= 50) & (u != 'Tesla') & (u != 'Non-Networked')]\n",
    "other_networks = u"
   ]
  },
  {
   "cell_type": "code",
   "execution_count": 11,
   "id": "1131851e-ef2f-4488-b299-c79d050a1209",
   "metadata": {},
   "outputs": [],
   "source": [
    "'''\n",
    "Creating Tesla and non-tesla SNGs\n",
    "'''\n",
    "\n",
    "tesla = []\n",
    "other = []\n",
    "combined = []\n",
    "rivian = []\n",
    "\n",
    "for source, node in sng_corridor._node.items():\n",
    "\n",
    "    if node['type'] == 'place':\n",
    "\n",
    "        tesla.append(source)\n",
    "        other.append(source)\n",
    "        combined.append(source)\n",
    "        rivian.append(source)\n",
    "\n",
    "    else:\n",
    "\n",
    "        include = False\n",
    "\n",
    "        if node['network'] == 'Tesla':\n",
    "\n",
    "            tesla.append(source)\n",
    "            combined.append(source)\n",
    "\n",
    "        else:\n",
    "\n",
    "            other.append(source)\n",
    "            \n",
    "        if node['network'] in other_networks:\n",
    "\n",
    "            combined.append(source)\n",
    "\n",
    "        if node['network'] in ['RIVIAN_ADVENTURE']:\n",
    "\n",
    "            rivian.append(source)\n",
    "\n",
    "sng_tesla = src.graph.subgraph(graph, tesla)\n",
    "sng_other = src.graph.subgraph(graph, other)\n",
    "sng_combined = src.graph.subgraph(graph, combined)\n",
    "sng_rivian = src.graph.subgraph(graph, rivian)"
   ]
  },
  {
   "cell_type": "code",
   "execution_count": 12,
   "id": "0762b541-7b0b-409a-a524-40857d90475a",
   "metadata": {},
   "outputs": [
    {
     "data": {
      "text/plain": [
       "(678, 218, 498, 50)"
      ]
     },
     "execution_count": 12,
     "metadata": {},
     "output_type": "execute_result"
    }
   ],
   "source": [
    "sng_combined.number_of_nodes(), sng_tesla.number_of_nodes(), sng_other.number_of_nodes(), sng_rivian.number_of_nodes()"
   ]
  },
  {
   "cell_type": "code",
   "execution_count": 13,
   "id": "4582dcc8-461c-4cf8-859d-b9d885f46279",
   "metadata": {},
   "outputs": [],
   "source": [
    "src.graph.graph_to_json(sng_combined, 'Outputs/sng_combined.json')\n",
    "src.graph.graph_to_json(sng_tesla, 'Outputs/sng_tesla.json')\n",
    "src.graph.graph_to_json(sng_other, 'Outputs/sng_other.json')\n",
    "src.graph.graph_to_json(sng_rivian, 'Outputs/sng_sng_rivian.json')"
   ]
  }
 ],
 "metadata": {
  "kernelspec": {
   "display_name": "Python 3 (ipykernel)",
   "language": "python",
   "name": "python3"
  },
  "language_info": {
   "codemirror_mode": {
    "name": "ipython",
    "version": 3
   },
   "file_extension": ".py",
   "mimetype": "text/x-python",
   "name": "python",
   "nbconvert_exporter": "python",
   "pygments_lexer": "ipython3",
   "version": "3.11.5"
  }
 },
 "nbformat": 4,
 "nbformat_minor": 5
}
