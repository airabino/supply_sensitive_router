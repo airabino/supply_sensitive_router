{
 "cells": [
  {
   "cell_type": "code",
   "execution_count": null,
   "id": "27307a6a-8447-4ddc-ace9-6873af666cdc",
   "metadata": {
    "tags": []
   },
   "outputs": [],
   "source": [
    "import warnings\n",
    "warnings.filterwarnings(\"ignore\")\n",
    "\n",
    "import os\n",
    "import sys\n",
    "import time\n",
    "import json\n",
    "import numpy as np\n",
    "import pandas as pd\n",
    "import geopandas as gpd\n",
    "import pickle as pkl\n",
    "import networkx as nx\n",
    "import matplotlib.pyplot as plt\n",
    "\n",
    "from pprint import pprint\n",
    "\n",
    "import src\n",
    "from src.reload import deep_reload"
   ]
  },
  {
   "cell_type": "markdown",
   "id": "79e978f3-c5b9-420f-9e45-d2325cd67375",
   "metadata": {},
   "source": [
    "This notebook shows how supply sensitive routing works using a California's SNG. The core concepts are outlined in the associated paper. A case including vehicle and station parameters is generated and run. Please read README.md befor running."
   ]
  },
  {
   "cell_type": "code",
   "execution_count": null,
   "id": "4c082448-4f98-4b9d-aedc-09e1f58d9cd0",
   "metadata": {},
   "outputs": [],
   "source": [
    "'''\n",
    "Importing California combined SNG\n",
    "'''\n",
    "\n",
    "graph = src.graph.graph_from_json('Outputs/sng_combined.json')\n",
    "graph = graph.to_directed()"
   ]
  },
  {
   "cell_type": "code",
   "execution_count": null,
   "id": "7e995294-8fc0-4830-bde9-f593e8734644",
   "metadata": {},
   "outputs": [],
   "source": [
    "cities = src.graph.graph_from_json('Outputs/places.json')\n",
    "\n",
    "pop_adj = sum([v['population'] for v in cities._node.values()]) / cities.number_of_nodes()\n",
    "\n",
    "weighted = {k: v['population'] / pop_adj for k, v in cities._node.items()}"
   ]
  },
  {
   "cell_type": "code",
   "execution_count": null,
   "id": "2ede8505-a050-47e1-9578-83b3b03ad0e8",
   "metadata": {},
   "outputs": [],
   "source": [
    "'''\n",
    "Generating a case\n",
    "'''\n",
    "deep_reload(src)\n",
    "\n",
    "seed = 1468952\n",
    "seed = None\n",
    "rng = np.random.default_rng(seed)\n",
    "\n",
    "vehicle_param = src.experiments._vehicle_kwargs\n",
    "station_param = src.experiments._station_kwargs\n",
    "graphs = [0]\n",
    "\n",
    "graph_index, vehicle_kw, station_kw = src.experiments.generate_case(\n",
    "    graphs, vehicle_param, station_param, rng,\n",
    ")\n",
    "\n",
    "graph_index, vehicle_kw, station_kw"
   ]
  },
  {
   "cell_type": "code",
   "execution_count": null,
   "id": "5edab7e1-9dba-46c5-987c-f56117c926c3",
   "metadata": {},
   "outputs": [],
   "source": [
    "'''\n",
    "Running a case\n",
    "'''\n",
    "deep_reload(src)\n",
    "\n",
    "t0 = time.time()\n",
    "\n",
    "costs, values, paths = src.experiments.run_case(\n",
    "    graph, vehicle_kw, station_kw, method = 'dijkstra',\n",
    ")\n",
    "\n",
    "print(f'Executed in {time.time() - t0:.4f} seconds')"
   ]
  },
  {
   "cell_type": "code",
   "execution_count": null,
   "id": "6facbaa2-f987-43cf-8642-bac8c2b01783",
   "metadata": {},
   "outputs": [],
   "source": [
    "'''\n",
    "Computing weighted impedance\n",
    "'''\n",
    "\n",
    "print(src.routing.impedance(\n",
    "    values, field = 'total_time',\n",
    "    origins = weighted,\n",
    "    destinations = weighted,\n",
    ") / 3600)\n",
    "\n",
    "print(src.routing.impedance(\n",
    "    values, field = 'driving_time',\n",
    "    origins = weighted,\n",
    "    destinations = weighted,\n",
    ") / 3600)"
   ]
  }
 ],
 "metadata": {
  "kernelspec": {
   "display_name": "Python 3 (ipykernel)",
   "language": "python",
   "name": "python3"
  },
  "language_info": {
   "codemirror_mode": {
    "name": "ipython",
    "version": 3
   },
   "file_extension": ".py",
   "mimetype": "text/x-python",
   "name": "python",
   "nbconvert_exporter": "python",
   "pygments_lexer": "ipython3",
   "version": "3.11.5"
  }
 },
 "nbformat": 4,
 "nbformat_minor": 5
}
